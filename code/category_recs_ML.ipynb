{
 "cells": [
  {
   "cell_type": "markdown",
   "metadata": {},
   "source": [
    "## Product Category recommendations: In-depth Analysis (Machine Learning)\n",
    "\n",
    "SVM and Naive Bayes classifier."
   ]
  },
  {
   "cell_type": "code",
   "execution_count": 19,
   "metadata": {},
   "outputs": [],
   "source": [
    "# Read the wrangled dataset\n",
    "%store -r 'flipkart_df'"
   ]
  },
  {
   "cell_type": "code",
   "execution_count": 20,
   "metadata": {},
   "outputs": [
    {
     "name": "stdout",
     "output_type": "stream",
     "text": [
      "<class 'pandas.core.frame.DataFrame'>\n",
      "Index: 19998 entries, CAGEBTJBTZ9HK4AU to ACCEKFVVHCJHKVCR\n",
      "Data columns (total 15 columns):\n",
      "crawl_timestamp            19998 non-null datetime64[ns]\n",
      "product_category           19998 non-null category\n",
      "brand                      19998 non-null object\n",
      "product_name               19998 non-null category\n",
      "retail_price               19920 non-null float64\n",
      "discounted_price           19920 non-null float64\n",
      "final_price                19920 non-null float64\n",
      "is_FK_Advantage_product    19998 non-null bool\n",
      "description                19996 non-null object\n",
      "product_url                19998 non-null object\n",
      "image                      19995 non-null object\n",
      "product_rating             1849 non-null float64\n",
      "product_color              9730 non-null object\n",
      "product_ideal_for          13137 non-null object\n",
      "product_occasion           9954 non-null object\n",
      "dtypes: bool(1), category(2), datetime64[ns](1), float64(4), object(7)\n",
      "memory usage: 2.2+ MB\n"
     ]
    }
   ],
   "source": [
    "# Examine the dataset\n",
    "flipkart_df.info()"
   ]
  },
  {
   "cell_type": "code",
   "execution_count": 21,
   "metadata": {},
   "outputs": [
    {
     "data": {
      "text/html": [
       "<div>\n",
       "<style scoped>\n",
       "    .dataframe tbody tr th:only-of-type {\n",
       "        vertical-align: middle;\n",
       "    }\n",
       "\n",
       "    .dataframe tbody tr th {\n",
       "        vertical-align: top;\n",
       "    }\n",
       "\n",
       "    .dataframe thead th {\n",
       "        text-align: right;\n",
       "    }\n",
       "</style>\n",
       "<table border=\"1\" class=\"dataframe\">\n",
       "  <thead>\n",
       "    <tr style=\"text-align: right;\">\n",
       "      <th></th>\n",
       "      <th>crawl_timestamp</th>\n",
       "      <th>product_category</th>\n",
       "      <th>brand</th>\n",
       "      <th>product_name</th>\n",
       "      <th>retail_price</th>\n",
       "      <th>discounted_price</th>\n",
       "      <th>final_price</th>\n",
       "      <th>is_FK_Advantage_product</th>\n",
       "      <th>description</th>\n",
       "      <th>product_url</th>\n",
       "      <th>image</th>\n",
       "      <th>product_rating</th>\n",
       "      <th>product_color</th>\n",
       "      <th>product_ideal_for</th>\n",
       "      <th>product_occasion</th>\n",
       "    </tr>\n",
       "    <tr>\n",
       "      <th>pid</th>\n",
       "      <th></th>\n",
       "      <th></th>\n",
       "      <th></th>\n",
       "      <th></th>\n",
       "      <th></th>\n",
       "      <th></th>\n",
       "      <th></th>\n",
       "      <th></th>\n",
       "      <th></th>\n",
       "      <th></th>\n",
       "      <th></th>\n",
       "      <th></th>\n",
       "      <th></th>\n",
       "      <th></th>\n",
       "      <th></th>\n",
       "    </tr>\n",
       "  </thead>\n",
       "  <tbody>\n",
       "    <tr>\n",
       "      <th>CAGEBTJBTZ9HK4AU</th>\n",
       "      <td>2015-12-01 06:13:00</td>\n",
       "      <td>Beauty and Personal Care</td>\n",
       "      <td>Denver</td>\n",
       "      <td>Denver Caliber,Pride Combo Set</td>\n",
       "      <td>409.0</td>\n",
       "      <td>39.0</td>\n",
       "      <td>370.0</td>\n",
       "      <td>False</td>\n",
       "      <td>Flipkart.com: Buy Denver Caliber,Pride Combo S...</td>\n",
       "      <td>http://www.flipkart.com/denver-caliber-pride-c...</td>\n",
       "      <td>http://img6a.flixcart.com/image/combo-gift-set...</td>\n",
       "      <td>NaN</td>\n",
       "      <td>NaN</td>\n",
       "      <td>Men</td>\n",
       "      <td>NaN</td>\n",
       "    </tr>\n",
       "    <tr>\n",
       "      <th>CAGEYFZWDZYE5VPH</th>\n",
       "      <td>2015-12-01 06:13:00</td>\n",
       "      <td>Beauty and Personal Care</td>\n",
       "      <td>Kolkata</td>\n",
       "      <td>Kolkata Knight Riders Combo Set</td>\n",
       "      <td>380.0</td>\n",
       "      <td>65.0</td>\n",
       "      <td>315.0</td>\n",
       "      <td>False</td>\n",
       "      <td>Flipkart.com: Buy Kolkata Knight Riders Combo ...</td>\n",
       "      <td>http://www.flipkart.com/kolkata-knight-riders-...</td>\n",
       "      <td>http://img5a.flixcart.com/image/combo-gift-set...</td>\n",
       "      <td>NaN</td>\n",
       "      <td>NaN</td>\n",
       "      <td>NaN</td>\n",
       "      <td>NaN</td>\n",
       "    </tr>\n",
       "    <tr>\n",
       "      <th>PBXE5YG7NN4GWTKG</th>\n",
       "      <td>2015-12-01 06:13:00</td>\n",
       "      <td>Toys &amp; School Supplies</td>\n",
       "      <td>Disney</td>\n",
       "      <td>Disney Minnie Cartoon Art Plastic Pencil Box</td>\n",
       "      <td>299.0</td>\n",
       "      <td>30.0</td>\n",
       "      <td>269.0</td>\n",
       "      <td>False</td>\n",
       "      <td>Flipkart.com: Buy Disney Minnie Cartoon Art Pl...</td>\n",
       "      <td>http://www.flipkart.com/disney-minnie-cartoon-...</td>\n",
       "      <td>http://img6a.flixcart.com/image/pencil-box/t/k...</td>\n",
       "      <td>NaN</td>\n",
       "      <td>NaN</td>\n",
       "      <td>NaN</td>\n",
       "      <td>NaN</td>\n",
       "    </tr>\n",
       "    <tr>\n",
       "      <th>NKCE2F5HBJYC6TBZ</th>\n",
       "      <td>2015-12-01 06:13:00</td>\n",
       "      <td>Jewellery</td>\n",
       "      <td>Jewelizer Crystal Alloy Necklace</td>\n",
       "      <td>Jewelizer Crystal Alloy Necklace</td>\n",
       "      <td>899.0</td>\n",
       "      <td>450.0</td>\n",
       "      <td>449.0</td>\n",
       "      <td>False</td>\n",
       "      <td>Jewelizer Crystal Alloy Necklace - Buy Jeweliz...</td>\n",
       "      <td>http://www.flipkart.com/jewelizer-crystal-allo...</td>\n",
       "      <td>http://img5a.flixcart.com/image/necklace-chain...</td>\n",
       "      <td>NaN</td>\n",
       "      <td>Green</td>\n",
       "      <td>Women</td>\n",
       "      <td>Everyday, Wedding and Engagement, Workwear</td>\n",
       "    </tr>\n",
       "    <tr>\n",
       "      <th>PBXE6JCKFHDZBZYQ</th>\n",
       "      <td>2015-12-01 06:13:00</td>\n",
       "      <td>Toys &amp; School Supplies</td>\n",
       "      <td>Priya</td>\n",
       "      <td>Priya Exports Angel Bear Art Plastic Pencil Box</td>\n",
       "      <td>500.0</td>\n",
       "      <td>200.0</td>\n",
       "      <td>300.0</td>\n",
       "      <td>False</td>\n",
       "      <td>Flipkart.com: Buy Priya Exports Angel Bear Art...</td>\n",
       "      <td>http://www.flipkart.com/priya-exports-angel-be...</td>\n",
       "      <td>http://img6a.flixcart.com/image/pill-splitter-...</td>\n",
       "      <td>NaN</td>\n",
       "      <td>NaN</td>\n",
       "      <td>NaN</td>\n",
       "      <td>NaN</td>\n",
       "    </tr>\n",
       "  </tbody>\n",
       "</table>\n",
       "</div>"
      ],
      "text/plain": [
       "                     crawl_timestamp          product_category  \\\n",
       "pid                                                              \n",
       "CAGEBTJBTZ9HK4AU 2015-12-01 06:13:00  Beauty and Personal Care   \n",
       "CAGEYFZWDZYE5VPH 2015-12-01 06:13:00  Beauty and Personal Care   \n",
       "PBXE5YG7NN4GWTKG 2015-12-01 06:13:00    Toys & School Supplies   \n",
       "NKCE2F5HBJYC6TBZ 2015-12-01 06:13:00                 Jewellery   \n",
       "PBXE6JCKFHDZBZYQ 2015-12-01 06:13:00    Toys & School Supplies   \n",
       "\n",
       "                                             brand  \\\n",
       "pid                                                  \n",
       "CAGEBTJBTZ9HK4AU                            Denver   \n",
       "CAGEYFZWDZYE5VPH                           Kolkata   \n",
       "PBXE5YG7NN4GWTKG                            Disney   \n",
       "NKCE2F5HBJYC6TBZ  Jewelizer Crystal Alloy Necklace   \n",
       "PBXE6JCKFHDZBZYQ                             Priya   \n",
       "\n",
       "                                                     product_name  \\\n",
       "pid                                                                 \n",
       "CAGEBTJBTZ9HK4AU                   Denver Caliber,Pride Combo Set   \n",
       "CAGEYFZWDZYE5VPH                  Kolkata Knight Riders Combo Set   \n",
       "PBXE5YG7NN4GWTKG     Disney Minnie Cartoon Art Plastic Pencil Box   \n",
       "NKCE2F5HBJYC6TBZ                 Jewelizer Crystal Alloy Necklace   \n",
       "PBXE6JCKFHDZBZYQ  Priya Exports Angel Bear Art Plastic Pencil Box   \n",
       "\n",
       "                  retail_price  discounted_price  final_price  \\\n",
       "pid                                                             \n",
       "CAGEBTJBTZ9HK4AU         409.0              39.0        370.0   \n",
       "CAGEYFZWDZYE5VPH         380.0              65.0        315.0   \n",
       "PBXE5YG7NN4GWTKG         299.0              30.0        269.0   \n",
       "NKCE2F5HBJYC6TBZ         899.0             450.0        449.0   \n",
       "PBXE6JCKFHDZBZYQ         500.0             200.0        300.0   \n",
       "\n",
       "                  is_FK_Advantage_product  \\\n",
       "pid                                         \n",
       "CAGEBTJBTZ9HK4AU                    False   \n",
       "CAGEYFZWDZYE5VPH                    False   \n",
       "PBXE5YG7NN4GWTKG                    False   \n",
       "NKCE2F5HBJYC6TBZ                    False   \n",
       "PBXE6JCKFHDZBZYQ                    False   \n",
       "\n",
       "                                                        description  \\\n",
       "pid                                                                   \n",
       "CAGEBTJBTZ9HK4AU  Flipkart.com: Buy Denver Caliber,Pride Combo S...   \n",
       "CAGEYFZWDZYE5VPH  Flipkart.com: Buy Kolkata Knight Riders Combo ...   \n",
       "PBXE5YG7NN4GWTKG  Flipkart.com: Buy Disney Minnie Cartoon Art Pl...   \n",
       "NKCE2F5HBJYC6TBZ  Jewelizer Crystal Alloy Necklace - Buy Jeweliz...   \n",
       "PBXE6JCKFHDZBZYQ  Flipkart.com: Buy Priya Exports Angel Bear Art...   \n",
       "\n",
       "                                                        product_url  \\\n",
       "pid                                                                   \n",
       "CAGEBTJBTZ9HK4AU  http://www.flipkart.com/denver-caliber-pride-c...   \n",
       "CAGEYFZWDZYE5VPH  http://www.flipkart.com/kolkata-knight-riders-...   \n",
       "PBXE5YG7NN4GWTKG  http://www.flipkart.com/disney-minnie-cartoon-...   \n",
       "NKCE2F5HBJYC6TBZ  http://www.flipkart.com/jewelizer-crystal-allo...   \n",
       "PBXE6JCKFHDZBZYQ  http://www.flipkart.com/priya-exports-angel-be...   \n",
       "\n",
       "                                                              image  \\\n",
       "pid                                                                   \n",
       "CAGEBTJBTZ9HK4AU  http://img6a.flixcart.com/image/combo-gift-set...   \n",
       "CAGEYFZWDZYE5VPH  http://img5a.flixcart.com/image/combo-gift-set...   \n",
       "PBXE5YG7NN4GWTKG  http://img6a.flixcart.com/image/pencil-box/t/k...   \n",
       "NKCE2F5HBJYC6TBZ  http://img5a.flixcart.com/image/necklace-chain...   \n",
       "PBXE6JCKFHDZBZYQ  http://img6a.flixcart.com/image/pill-splitter-...   \n",
       "\n",
       "                  product_rating product_color product_ideal_for  \\\n",
       "pid                                                                \n",
       "CAGEBTJBTZ9HK4AU             NaN           NaN               Men   \n",
       "CAGEYFZWDZYE5VPH             NaN           NaN               NaN   \n",
       "PBXE5YG7NN4GWTKG             NaN           NaN               NaN   \n",
       "NKCE2F5HBJYC6TBZ             NaN         Green             Women   \n",
       "PBXE6JCKFHDZBZYQ             NaN           NaN               NaN   \n",
       "\n",
       "                                            product_occasion  \n",
       "pid                                                           \n",
       "CAGEBTJBTZ9HK4AU                                         NaN  \n",
       "CAGEYFZWDZYE5VPH                                         NaN  \n",
       "PBXE5YG7NN4GWTKG                                         NaN  \n",
       "NKCE2F5HBJYC6TBZ  Everyday, Wedding and Engagement, Workwear  \n",
       "PBXE6JCKFHDZBZYQ                                         NaN  "
      ]
     },
     "execution_count": 21,
     "metadata": {},
     "output_type": "execute_result"
    }
   ],
   "source": [
    "# View data in dataset\n",
    "flipkart_df.head()"
   ]
  },
  {
   "cell_type": "code",
   "execution_count": 22,
   "metadata": {},
   "outputs": [
    {
     "data": {
      "text/plain": [
       "Index(['crawl_timestamp', 'product_category', 'brand', 'product_name',\n",
       "       'retail_price', 'discounted_price', 'final_price',\n",
       "       'is_FK_Advantage_product', 'description', 'product_url', 'image',\n",
       "       'product_rating', 'product_color', 'product_ideal_for',\n",
       "       'product_occasion'],\n",
       "      dtype='object')"
      ]
     },
     "execution_count": 22,
     "metadata": {},
     "output_type": "execute_result"
    }
   ],
   "source": [
    "# View columns in dataset\n",
    "flipkart_df.columns"
   ]
  },
  {
   "cell_type": "code",
   "execution_count": 23,
   "metadata": {},
   "outputs": [
    {
     "data": {
      "text/plain": [
       "[Beauty and Personal Care, Toys & School Supplies, Jewellery, Pens & Stationery, Home Improvement, ..., THERISE MD0005 Wired Headset (Pink), Adidas IND PRO THI GUA Thigh Guard (White, Blu..., NEWGEN TECH EO-HS3303 218 Wired Headset (White), Himmlisch 20503 Car Bottle Holder (Plastic), ABEEZ Boys, Men, Girls (Black, Pack of 1)]\n",
       "Length: 142\n",
       "Categories (142, object): [Beauty and Personal Care, Toys & School Supplies, Jewellery, Pens & Stationery, ..., Adidas IND PRO THI GUA Thigh Guard (White, Blu..., NEWGEN TECH EO-HS3303 218 Wired Headset (White), Himmlisch 20503 Car Bottle Holder (Plastic), ABEEZ Boys, Men, Girls (Black, Pack of 1)]"
      ]
     },
     "execution_count": 23,
     "metadata": {},
     "output_type": "execute_result"
    }
   ],
   "source": [
    "# View no. of unique product categories in the dataset\n",
    "flipkart_df.product_category.unique()"
   ]
  },
  {
   "cell_type": "code",
   "execution_count": 24,
   "metadata": {},
   "outputs": [
    {
     "data": {
      "text/plain": [
       "Clothing                 6290\n",
       "Jewellery                3588\n",
       "Footwear                 1260\n",
       "Mobiles & Accessories    1099\n",
       "Automotive               1018\n",
       "Name: product_category, dtype: int64"
      ]
     },
     "execution_count": 24,
     "metadata": {},
     "output_type": "execute_result"
    }
   ],
   "source": [
    "#Top 5 product categories and their counts\n",
    "flipkart_df.product_category.value_counts().sort_values(ascending=False).head(5)"
   ]
  },
  {
   "cell_type": "code",
   "execution_count": 25,
   "metadata": {},
   "outputs": [
    {
     "name": "stdout",
     "output_type": "stream",
     "text": [
      "<class 'pandas.core.frame.DataFrame'>\n",
      "Index: 13255 entries, NKCE2F5HBJYC6TBZ to ACCEKFVVHCJHKVCR\n",
      "Data columns (total 15 columns):\n",
      "crawl_timestamp            13255 non-null datetime64[ns]\n",
      "product_category           13255 non-null category\n",
      "brand                      13255 non-null object\n",
      "product_name               13255 non-null category\n",
      "retail_price               13211 non-null float64\n",
      "discounted_price           13211 non-null float64\n",
      "final_price                13211 non-null float64\n",
      "is_FK_Advantage_product    13255 non-null bool\n",
      "description                13254 non-null object\n",
      "product_url                13255 non-null object\n",
      "image                      13255 non-null object\n",
      "product_rating             1011 non-null float64\n",
      "product_color              6680 non-null object\n",
      "product_ideal_for          10904 non-null object\n",
      "product_occasion           9334 non-null object\n",
      "dtypes: bool(1), category(2), datetime64[ns](1), float64(4), object(7)\n",
      "memory usage: 1.5+ MB\n"
     ]
    }
   ],
   "source": [
    "# filter dataset to include top 5 product categories\n",
    "flipkart_top5 = flipkart_df[flipkart_df.product_category.isin(['Clothing', 'Jewellery', 'Footwear', 'Mobiles & Accessories', 'Automotive'])]\n",
    "flipkart_top5.info()"
   ]
  },
  {
   "cell_type": "code",
   "execution_count": 26,
   "metadata": {},
   "outputs": [
    {
     "data": {
      "text/html": [
       "<div>\n",
       "<style scoped>\n",
       "    .dataframe tbody tr th:only-of-type {\n",
       "        vertical-align: middle;\n",
       "    }\n",
       "\n",
       "    .dataframe tbody tr th {\n",
       "        vertical-align: top;\n",
       "    }\n",
       "\n",
       "    .dataframe thead th {\n",
       "        text-align: right;\n",
       "    }\n",
       "</style>\n",
       "<table border=\"1\" class=\"dataframe\">\n",
       "  <thead>\n",
       "    <tr style=\"text-align: right;\">\n",
       "      <th></th>\n",
       "      <th>crawl_timestamp</th>\n",
       "      <th>product_category</th>\n",
       "      <th>brand</th>\n",
       "      <th>product_name</th>\n",
       "      <th>retail_price</th>\n",
       "      <th>discounted_price</th>\n",
       "      <th>final_price</th>\n",
       "      <th>is_FK_Advantage_product</th>\n",
       "      <th>description</th>\n",
       "      <th>product_url</th>\n",
       "      <th>image</th>\n",
       "      <th>product_rating</th>\n",
       "      <th>product_color</th>\n",
       "      <th>product_ideal_for</th>\n",
       "      <th>product_occasion</th>\n",
       "    </tr>\n",
       "    <tr>\n",
       "      <th>pid</th>\n",
       "      <th></th>\n",
       "      <th></th>\n",
       "      <th></th>\n",
       "      <th></th>\n",
       "      <th></th>\n",
       "      <th></th>\n",
       "      <th></th>\n",
       "      <th></th>\n",
       "      <th></th>\n",
       "      <th></th>\n",
       "      <th></th>\n",
       "      <th></th>\n",
       "      <th></th>\n",
       "      <th></th>\n",
       "      <th></th>\n",
       "    </tr>\n",
       "  </thead>\n",
       "  <tbody>\n",
       "    <tr>\n",
       "      <th>NKCE2F5HBJYC6TBZ</th>\n",
       "      <td>2015-12-01 06:13:00</td>\n",
       "      <td>Jewellery</td>\n",
       "      <td>Jewelizer Crystal Alloy Necklace</td>\n",
       "      <td>Jewelizer Crystal Alloy Necklace</td>\n",
       "      <td>899.0</td>\n",
       "      <td>450.0</td>\n",
       "      <td>449.0</td>\n",
       "      <td>False</td>\n",
       "      <td>Jewelizer Crystal Alloy Necklace - Buy Jeweliz...</td>\n",
       "      <td>http://www.flipkart.com/jewelizer-crystal-allo...</td>\n",
       "      <td>http://img5a.flixcart.com/image/necklace-chain...</td>\n",
       "      <td>NaN</td>\n",
       "      <td>Green</td>\n",
       "      <td>Women</td>\n",
       "      <td>Everyday, Wedding and Engagement, Workwear</td>\n",
       "    </tr>\n",
       "    <tr>\n",
       "      <th>NKCEAX7HMXEAZEFR</th>\n",
       "      <td>2015-12-01 06:13:00</td>\n",
       "      <td>Jewellery</td>\n",
       "      <td>Jadoo Collections Alloy Necklace</td>\n",
       "      <td>Jadoo Collections Alloy Necklace</td>\n",
       "      <td>599.0</td>\n",
       "      <td>300.0</td>\n",
       "      <td>299.0</td>\n",
       "      <td>False</td>\n",
       "      <td>Jadoo Collections Alloy Necklace - Buy Jadoo C...</td>\n",
       "      <td>http://www.flipkart.com/jadoo-collections-allo...</td>\n",
       "      <td>http://img5a.flixcart.com/image/necklace-chain...</td>\n",
       "      <td>NaN</td>\n",
       "      <td>Multicolor</td>\n",
       "      <td>Women, Girls</td>\n",
       "      <td>Everyday, Love, Religious, Wedding and Engagem...</td>\n",
       "    </tr>\n",
       "    <tr>\n",
       "      <th>NKCEAY3RNC2QTZXR</th>\n",
       "      <td>2015-12-01 06:13:00</td>\n",
       "      <td>Jewellery</td>\n",
       "      <td>Frabjous Alloy Necklace</td>\n",
       "      <td>Frabjous Alloy Necklace</td>\n",
       "      <td>379.0</td>\n",
       "      <td>130.0</td>\n",
       "      <td>249.0</td>\n",
       "      <td>False</td>\n",
       "      <td>Frabjous Alloy Necklace - Buy Frabjous Alloy N...</td>\n",
       "      <td>http://www.flipkart.com/frabjous-alloy-necklac...</td>\n",
       "      <td>http://img6a.flixcart.com/image/necklace-chain...</td>\n",
       "      <td>NaN</td>\n",
       "      <td>Gold, Green, Red</td>\n",
       "      <td>Women</td>\n",
       "      <td>Everyday</td>\n",
       "    </tr>\n",
       "  </tbody>\n",
       "</table>\n",
       "</div>"
      ],
      "text/plain": [
       "                     crawl_timestamp product_category  \\\n",
       "pid                                                     \n",
       "NKCE2F5HBJYC6TBZ 2015-12-01 06:13:00        Jewellery   \n",
       "NKCEAX7HMXEAZEFR 2015-12-01 06:13:00        Jewellery   \n",
       "NKCEAY3RNC2QTZXR 2015-12-01 06:13:00        Jewellery   \n",
       "\n",
       "                                             brand  \\\n",
       "pid                                                  \n",
       "NKCE2F5HBJYC6TBZ  Jewelizer Crystal Alloy Necklace   \n",
       "NKCEAX7HMXEAZEFR  Jadoo Collections Alloy Necklace   \n",
       "NKCEAY3RNC2QTZXR           Frabjous Alloy Necklace   \n",
       "\n",
       "                                      product_name  retail_price  \\\n",
       "pid                                                                \n",
       "NKCE2F5HBJYC6TBZ  Jewelizer Crystal Alloy Necklace         899.0   \n",
       "NKCEAX7HMXEAZEFR  Jadoo Collections Alloy Necklace         599.0   \n",
       "NKCEAY3RNC2QTZXR           Frabjous Alloy Necklace         379.0   \n",
       "\n",
       "                  discounted_price  final_price  is_FK_Advantage_product  \\\n",
       "pid                                                                        \n",
       "NKCE2F5HBJYC6TBZ             450.0        449.0                    False   \n",
       "NKCEAX7HMXEAZEFR             300.0        299.0                    False   \n",
       "NKCEAY3RNC2QTZXR             130.0        249.0                    False   \n",
       "\n",
       "                                                        description  \\\n",
       "pid                                                                   \n",
       "NKCE2F5HBJYC6TBZ  Jewelizer Crystal Alloy Necklace - Buy Jeweliz...   \n",
       "NKCEAX7HMXEAZEFR  Jadoo Collections Alloy Necklace - Buy Jadoo C...   \n",
       "NKCEAY3RNC2QTZXR  Frabjous Alloy Necklace - Buy Frabjous Alloy N...   \n",
       "\n",
       "                                                        product_url  \\\n",
       "pid                                                                   \n",
       "NKCE2F5HBJYC6TBZ  http://www.flipkart.com/jewelizer-crystal-allo...   \n",
       "NKCEAX7HMXEAZEFR  http://www.flipkart.com/jadoo-collections-allo...   \n",
       "NKCEAY3RNC2QTZXR  http://www.flipkart.com/frabjous-alloy-necklac...   \n",
       "\n",
       "                                                              image  \\\n",
       "pid                                                                   \n",
       "NKCE2F5HBJYC6TBZ  http://img5a.flixcart.com/image/necklace-chain...   \n",
       "NKCEAX7HMXEAZEFR  http://img5a.flixcart.com/image/necklace-chain...   \n",
       "NKCEAY3RNC2QTZXR  http://img6a.flixcart.com/image/necklace-chain...   \n",
       "\n",
       "                  product_rating     product_color product_ideal_for  \\\n",
       "pid                                                                    \n",
       "NKCE2F5HBJYC6TBZ             NaN             Green             Women   \n",
       "NKCEAX7HMXEAZEFR             NaN        Multicolor      Women, Girls   \n",
       "NKCEAY3RNC2QTZXR             NaN  Gold, Green, Red             Women   \n",
       "\n",
       "                                                   product_occasion  \n",
       "pid                                                                  \n",
       "NKCE2F5HBJYC6TBZ         Everyday, Wedding and Engagement, Workwear  \n",
       "NKCEAX7HMXEAZEFR  Everyday, Love, Religious, Wedding and Engagem...  \n",
       "NKCEAY3RNC2QTZXR                                           Everyday  "
      ]
     },
     "execution_count": 26,
     "metadata": {},
     "output_type": "execute_result"
    }
   ],
   "source": [
    "flipkart_top5.head(3)"
   ]
  },
  {
   "cell_type": "code",
   "execution_count": 27,
   "metadata": {},
   "outputs": [],
   "source": [
    "# Sort the data based on product category\n",
    "flipkart_top5 =flipkart_top5.sort_values(by=['product_category'])"
   ]
  },
  {
   "cell_type": "code",
   "execution_count": 28,
   "metadata": {},
   "outputs": [
    {
     "name": "stdout",
     "output_type": "stream",
     "text": [
      "Stored 'flipkart_top5' (DataFrame)\n"
     ]
    }
   ],
   "source": [
    "# Store the sorted and filtered dataset to use it for further analysis in other jupyter notebooks\n",
    "%store flipkart_top5"
   ]
  },
  {
   "cell_type": "code",
   "execution_count": 29,
   "metadata": {},
   "outputs": [
    {
     "data": {
      "text/html": [
       "<div>\n",
       "<style scoped>\n",
       "    .dataframe tbody tr th:only-of-type {\n",
       "        vertical-align: middle;\n",
       "    }\n",
       "\n",
       "    .dataframe tbody tr th {\n",
       "        vertical-align: top;\n",
       "    }\n",
       "\n",
       "    .dataframe thead th {\n",
       "        text-align: right;\n",
       "    }\n",
       "</style>\n",
       "<table border=\"1\" class=\"dataframe\">\n",
       "  <thead>\n",
       "    <tr style=\"text-align: right;\">\n",
       "      <th></th>\n",
       "      <th>crawl_timestamp</th>\n",
       "      <th>product_category</th>\n",
       "      <th>brand</th>\n",
       "      <th>product_name</th>\n",
       "      <th>retail_price</th>\n",
       "      <th>discounted_price</th>\n",
       "      <th>final_price</th>\n",
       "      <th>is_FK_Advantage_product</th>\n",
       "      <th>description</th>\n",
       "      <th>product_url</th>\n",
       "      <th>image</th>\n",
       "      <th>product_rating</th>\n",
       "      <th>product_color</th>\n",
       "      <th>product_ideal_for</th>\n",
       "      <th>product_occasion</th>\n",
       "    </tr>\n",
       "    <tr>\n",
       "      <th>pid</th>\n",
       "      <th></th>\n",
       "      <th></th>\n",
       "      <th></th>\n",
       "      <th></th>\n",
       "      <th></th>\n",
       "      <th></th>\n",
       "      <th></th>\n",
       "      <th></th>\n",
       "      <th></th>\n",
       "      <th></th>\n",
       "      <th></th>\n",
       "      <th></th>\n",
       "      <th></th>\n",
       "      <th></th>\n",
       "      <th></th>\n",
       "    </tr>\n",
       "  </thead>\n",
       "  <tbody>\n",
       "    <tr>\n",
       "      <th>CSREGUN544KKCUAU</th>\n",
       "      <td>2016-03-18 19:41:12</td>\n",
       "      <td>Automotive</td>\n",
       "      <td>JVC CS J410X Coaxial Car Speaker</td>\n",
       "      <td>JVC CS J410X Coaxial Car Speaker</td>\n",
       "      <td>1890.0</td>\n",
       "      <td>418.0</td>\n",
       "      <td>1472.0</td>\n",
       "      <td>False</td>\n",
       "      <td>Specifications of JVC CS J410X Coaxial Car Spe...</td>\n",
       "      <td>http://www.flipkart.com/jvc-cs-j410x-coaxial-c...</td>\n",
       "      <td>http://img5a.flixcart.com/image/car-speaker/u/...</td>\n",
       "      <td>NaN</td>\n",
       "      <td>NaN</td>\n",
       "      <td>NaN</td>\n",
       "      <td>NaN</td>\n",
       "    </tr>\n",
       "    <tr>\n",
       "      <th>CRTECN2RZRH6FTYZ</th>\n",
       "      <td>2015-12-01 12:40:44</td>\n",
       "      <td>Automotive</td>\n",
       "      <td>Allure Auto CM 732 Car Mat Ford Endeavour</td>\n",
       "      <td>Allure Auto CM 732 Car Mat Ford Endeavour</td>\n",
       "      <td>4200.0</td>\n",
       "      <td>2820.0</td>\n",
       "      <td>1380.0</td>\n",
       "      <td>False</td>\n",
       "      <td>Buy Allure Auto CM 732 Car Mat Ford Endeavour ...</td>\n",
       "      <td>http://www.flipkart.com/allure-auto-cm-732-car...</td>\n",
       "      <td>http://img6a.flixcart.com/image/car-mat/e/k/5/...</td>\n",
       "      <td>NaN</td>\n",
       "      <td>Clear</td>\n",
       "      <td>NaN</td>\n",
       "      <td>NaN</td>\n",
       "    </tr>\n",
       "    <tr>\n",
       "      <th>CRTECN2QSN7HAXRJ</th>\n",
       "      <td>2015-12-01 12:40:44</td>\n",
       "      <td>Automotive</td>\n",
       "      <td>Allure Auto CM 1180 Car Mat Hyundai Getz</td>\n",
       "      <td>Allure Auto CM 1180 Car Mat Hyundai Getz</td>\n",
       "      <td>4900.0</td>\n",
       "      <td>3301.0</td>\n",
       "      <td>1599.0</td>\n",
       "      <td>False</td>\n",
       "      <td>Buy Allure Auto CM 1180 Car Mat Hyundai Getz f...</td>\n",
       "      <td>http://www.flipkart.com/allure-auto-cm-1180-ca...</td>\n",
       "      <td>http://img5a.flixcart.com/image/car-mat/z/z/9/...</td>\n",
       "      <td>NaN</td>\n",
       "      <td>Grey</td>\n",
       "      <td>NaN</td>\n",
       "      <td>NaN</td>\n",
       "    </tr>\n",
       "  </tbody>\n",
       "</table>\n",
       "</div>"
      ],
      "text/plain": [
       "                     crawl_timestamp product_category  \\\n",
       "pid                                                     \n",
       "CSREGUN544KKCUAU 2016-03-18 19:41:12       Automotive   \n",
       "CRTECN2RZRH6FTYZ 2015-12-01 12:40:44       Automotive   \n",
       "CRTECN2QSN7HAXRJ 2015-12-01 12:40:44       Automotive   \n",
       "\n",
       "                                                      brand  \\\n",
       "pid                                                           \n",
       "CSREGUN544KKCUAU           JVC CS J410X Coaxial Car Speaker   \n",
       "CRTECN2RZRH6FTYZ  Allure Auto CM 732 Car Mat Ford Endeavour   \n",
       "CRTECN2QSN7HAXRJ   Allure Auto CM 1180 Car Mat Hyundai Getz   \n",
       "\n",
       "                                               product_name  retail_price  \\\n",
       "pid                                                                         \n",
       "CSREGUN544KKCUAU           JVC CS J410X Coaxial Car Speaker        1890.0   \n",
       "CRTECN2RZRH6FTYZ  Allure Auto CM 732 Car Mat Ford Endeavour        4200.0   \n",
       "CRTECN2QSN7HAXRJ   Allure Auto CM 1180 Car Mat Hyundai Getz        4900.0   \n",
       "\n",
       "                  discounted_price  final_price  is_FK_Advantage_product  \\\n",
       "pid                                                                        \n",
       "CSREGUN544KKCUAU             418.0       1472.0                    False   \n",
       "CRTECN2RZRH6FTYZ            2820.0       1380.0                    False   \n",
       "CRTECN2QSN7HAXRJ            3301.0       1599.0                    False   \n",
       "\n",
       "                                                        description  \\\n",
       "pid                                                                   \n",
       "CSREGUN544KKCUAU  Specifications of JVC CS J410X Coaxial Car Spe...   \n",
       "CRTECN2RZRH6FTYZ  Buy Allure Auto CM 732 Car Mat Ford Endeavour ...   \n",
       "CRTECN2QSN7HAXRJ  Buy Allure Auto CM 1180 Car Mat Hyundai Getz f...   \n",
       "\n",
       "                                                        product_url  \\\n",
       "pid                                                                   \n",
       "CSREGUN544KKCUAU  http://www.flipkart.com/jvc-cs-j410x-coaxial-c...   \n",
       "CRTECN2RZRH6FTYZ  http://www.flipkart.com/allure-auto-cm-732-car...   \n",
       "CRTECN2QSN7HAXRJ  http://www.flipkart.com/allure-auto-cm-1180-ca...   \n",
       "\n",
       "                                                              image  \\\n",
       "pid                                                                   \n",
       "CSREGUN544KKCUAU  http://img5a.flixcart.com/image/car-speaker/u/...   \n",
       "CRTECN2RZRH6FTYZ  http://img6a.flixcart.com/image/car-mat/e/k/5/...   \n",
       "CRTECN2QSN7HAXRJ  http://img5a.flixcart.com/image/car-mat/z/z/9/...   \n",
       "\n",
       "                  product_rating product_color product_ideal_for  \\\n",
       "pid                                                                \n",
       "CSREGUN544KKCUAU             NaN           NaN               NaN   \n",
       "CRTECN2RZRH6FTYZ             NaN         Clear               NaN   \n",
       "CRTECN2QSN7HAXRJ             NaN          Grey               NaN   \n",
       "\n",
       "                 product_occasion  \n",
       "pid                                \n",
       "CSREGUN544KKCUAU              NaN  \n",
       "CRTECN2RZRH6FTYZ              NaN  \n",
       "CRTECN2QSN7HAXRJ              NaN  "
      ]
     },
     "execution_count": 29,
     "metadata": {},
     "output_type": "execute_result"
    }
   ],
   "source": [
    "flipkart_top5.head(3)"
   ]
  },
  {
   "cell_type": "code",
   "execution_count": 30,
   "metadata": {},
   "outputs": [],
   "source": [
    "# re-assigning dataframe to shorter name\n",
    "df=flipkart_top5"
   ]
  },
  {
   "cell_type": "code",
   "execution_count": 31,
   "metadata": {},
   "outputs": [
    {
     "data": {
      "text/html": [
       "<div>\n",
       "<style scoped>\n",
       "    .dataframe tbody tr th:only-of-type {\n",
       "        vertical-align: middle;\n",
       "    }\n",
       "\n",
       "    .dataframe tbody tr th {\n",
       "        vertical-align: top;\n",
       "    }\n",
       "\n",
       "    .dataframe thead th {\n",
       "        text-align: right;\n",
       "    }\n",
       "</style>\n",
       "<table border=\"1\" class=\"dataframe\">\n",
       "  <thead>\n",
       "    <tr style=\"text-align: right;\">\n",
       "      <th></th>\n",
       "      <th>product_category</th>\n",
       "      <th>description</th>\n",
       "      <th>category_id</th>\n",
       "    </tr>\n",
       "    <tr>\n",
       "      <th>pid</th>\n",
       "      <th></th>\n",
       "      <th></th>\n",
       "      <th></th>\n",
       "    </tr>\n",
       "  </thead>\n",
       "  <tbody>\n",
       "    <tr>\n",
       "      <th>CSREGUN544KKCUAU</th>\n",
       "      <td>Automotive</td>\n",
       "      <td>Specifications of JVC CS J410X Coaxial Car Spe...</td>\n",
       "      <td>0</td>\n",
       "    </tr>\n",
       "    <tr>\n",
       "      <th>CRTECN2RZRH6FTYZ</th>\n",
       "      <td>Automotive</td>\n",
       "      <td>Buy Allure Auto CM 732 Car Mat Ford Endeavour ...</td>\n",
       "      <td>0</td>\n",
       "    </tr>\n",
       "    <tr>\n",
       "      <th>CRTECN2QSN7HAXRJ</th>\n",
       "      <td>Automotive</td>\n",
       "      <td>Buy Allure Auto CM 1180 Car Mat Hyundai Getz f...</td>\n",
       "      <td>0</td>\n",
       "    </tr>\n",
       "    <tr>\n",
       "      <th>CRTEB774JMYWBRMV</th>\n",
       "      <td>Automotive</td>\n",
       "      <td>3a Autocare Etios Car Mat Toyota Etios (Beige)...</td>\n",
       "      <td>0</td>\n",
       "    </tr>\n",
       "    <tr>\n",
       "      <th>CRTECN2QZVH3J8PV</th>\n",
       "      <td>Automotive</td>\n",
       "      <td>Buy Allure Auto CM 2076 Car Mat Maruti Vitara ...</td>\n",
       "      <td>0</td>\n",
       "    </tr>\n",
       "  </tbody>\n",
       "</table>\n",
       "</div>"
      ],
      "text/plain": [
       "                 product_category  \\\n",
       "pid                                 \n",
       "CSREGUN544KKCUAU       Automotive   \n",
       "CRTECN2RZRH6FTYZ       Automotive   \n",
       "CRTECN2QSN7HAXRJ       Automotive   \n",
       "CRTEB774JMYWBRMV       Automotive   \n",
       "CRTECN2QZVH3J8PV       Automotive   \n",
       "\n",
       "                                                        description  \\\n",
       "pid                                                                   \n",
       "CSREGUN544KKCUAU  Specifications of JVC CS J410X Coaxial Car Spe...   \n",
       "CRTECN2RZRH6FTYZ  Buy Allure Auto CM 732 Car Mat Ford Endeavour ...   \n",
       "CRTECN2QSN7HAXRJ  Buy Allure Auto CM 1180 Car Mat Hyundai Getz f...   \n",
       "CRTEB774JMYWBRMV  3a Autocare Etios Car Mat Toyota Etios (Beige)...   \n",
       "CRTECN2QZVH3J8PV  Buy Allure Auto CM 2076 Car Mat Maruti Vitara ...   \n",
       "\n",
       "                  category_id  \n",
       "pid                            \n",
       "CSREGUN544KKCUAU            0  \n",
       "CRTECN2RZRH6FTYZ            0  \n",
       "CRTECN2QSN7HAXRJ            0  \n",
       "CRTEB774JMYWBRMV            0  \n",
       "CRTECN2QZVH3J8PV            0  "
      ]
     },
     "execution_count": 31,
     "metadata": {},
     "output_type": "execute_result"
    }
   ],
   "source": [
    "# Data Exploration and create dict and df for later use in model evaluation\n",
    "from io import StringIO\n",
    "import pandas as pd\n",
    "# define columns\n",
    "col = ['product_category', 'description']\n",
    "# filter data frame to include only required columns\n",
    "df = df[col]\n",
    "#filter any null rows\n",
    "df = df[pd.notnull(df['description'])]\n",
    "# Assign columns\n",
    "df.columns = ['product_category', 'description']\n",
    "# Factorize the product_category\n",
    "df['category_id'] = df['product_category'].factorize()[0]\n",
    "# define category mappings df: text to id\n",
    "category_id_df = df[['product_category', 'category_id']].drop_duplicates().sort_values('category_id')\n",
    "# define dictionary of category to id mappings\n",
    "category_to_id = dict(category_id_df.values)\n",
    "# define dictionary of id to category mappings\n",
    "id_to_category = dict(category_id_df[['category_id', 'product_category']].values)\n",
    "df.head()"
   ]
  },
  {
   "cell_type": "code",
   "execution_count": 32,
   "metadata": {},
   "outputs": [],
   "source": [
    "#remove pid and reset index\n",
    "df = df.reset_index(drop=True)"
   ]
  },
  {
   "cell_type": "code",
   "execution_count": 33,
   "metadata": {},
   "outputs": [
    {
     "data": {
      "text/html": [
       "<div>\n",
       "<style scoped>\n",
       "    .dataframe tbody tr th:only-of-type {\n",
       "        vertical-align: middle;\n",
       "    }\n",
       "\n",
       "    .dataframe tbody tr th {\n",
       "        vertical-align: top;\n",
       "    }\n",
       "\n",
       "    .dataframe thead th {\n",
       "        text-align: right;\n",
       "    }\n",
       "</style>\n",
       "<table border=\"1\" class=\"dataframe\">\n",
       "  <thead>\n",
       "    <tr style=\"text-align: right;\">\n",
       "      <th></th>\n",
       "      <th>product_category</th>\n",
       "      <th>description</th>\n",
       "      <th>category_id</th>\n",
       "    </tr>\n",
       "  </thead>\n",
       "  <tbody>\n",
       "    <tr>\n",
       "      <th>0</th>\n",
       "      <td>Automotive</td>\n",
       "      <td>Specifications of JVC CS J410X Coaxial Car Spe...</td>\n",
       "      <td>0</td>\n",
       "    </tr>\n",
       "    <tr>\n",
       "      <th>1</th>\n",
       "      <td>Automotive</td>\n",
       "      <td>Buy Allure Auto CM 732 Car Mat Ford Endeavour ...</td>\n",
       "      <td>0</td>\n",
       "    </tr>\n",
       "    <tr>\n",
       "      <th>2</th>\n",
       "      <td>Automotive</td>\n",
       "      <td>Buy Allure Auto CM 1180 Car Mat Hyundai Getz f...</td>\n",
       "      <td>0</td>\n",
       "    </tr>\n",
       "    <tr>\n",
       "      <th>3</th>\n",
       "      <td>Automotive</td>\n",
       "      <td>3a Autocare Etios Car Mat Toyota Etios (Beige)...</td>\n",
       "      <td>0</td>\n",
       "    </tr>\n",
       "    <tr>\n",
       "      <th>4</th>\n",
       "      <td>Automotive</td>\n",
       "      <td>Buy Allure Auto CM 2076 Car Mat Maruti Vitara ...</td>\n",
       "      <td>0</td>\n",
       "    </tr>\n",
       "  </tbody>\n",
       "</table>\n",
       "</div>"
      ],
      "text/plain": [
       "  product_category                                        description  \\\n",
       "0       Automotive  Specifications of JVC CS J410X Coaxial Car Spe...   \n",
       "1       Automotive  Buy Allure Auto CM 732 Car Mat Ford Endeavour ...   \n",
       "2       Automotive  Buy Allure Auto CM 1180 Car Mat Hyundai Getz f...   \n",
       "3       Automotive  3a Autocare Etios Car Mat Toyota Etios (Beige)...   \n",
       "4       Automotive  Buy Allure Auto CM 2076 Car Mat Maruti Vitara ...   \n",
       "\n",
       "   category_id  \n",
       "0            0  \n",
       "1            0  \n",
       "2            0  \n",
       "3            0  \n",
       "4            0  "
      ]
     },
     "execution_count": 33,
     "metadata": {},
     "output_type": "execute_result"
    }
   ],
   "source": [
    "df.head()"
   ]
  },
  {
   "cell_type": "code",
   "execution_count": 34,
   "metadata": {},
   "outputs": [
    {
     "name": "stdout",
     "output_type": "stream",
     "text": [
      "<class 'pandas.core.frame.DataFrame'>\n",
      "RangeIndex: 13254 entries, 0 to 13253\n",
      "Data columns (total 3 columns):\n",
      "product_category    13254 non-null category\n",
      "description         13254 non-null object\n",
      "category_id         13254 non-null int64\n",
      "dtypes: category(1), int64(1), object(1)\n",
      "memory usage: 239.2+ KB\n"
     ]
    }
   ],
   "source": [
    "# to correct categories to include only top 5 categories\n",
    "df.info()\n",
    "df.product_category = df.product_category.astype('str')\n",
    "df.product_category=df.product_category.astype('category')"
   ]
  },
  {
   "cell_type": "code",
   "execution_count": 35,
   "metadata": {},
   "outputs": [
    {
     "data": {
      "text/plain": [
       "<Figure size 800x600 with 1 Axes>"
      ]
     },
     "metadata": {},
     "output_type": "display_data"
    }
   ],
   "source": [
    "# Verify if any Imbalanced classes\n",
    "import matplotlib.pyplot as plt\n",
    "fig = plt.figure(figsize=(8,6))\n",
    "df.groupby('product_category').description.count().plot.bar(ylim=0)\n",
    "plt.show()"
   ]
  },
  {
   "cell_type": "code",
   "execution_count": 36,
   "metadata": {},
   "outputs": [
    {
     "data": {
      "text/plain": [
       "(13254, 16515)"
      ]
     },
     "execution_count": 36,
     "metadata": {},
     "output_type": "execute_result"
    }
   ],
   "source": [
    "# Text Representation: TfidfVectorizer\n",
    "from sklearn.feature_extraction.text import TfidfVectorizer\n",
    "tfidf = TfidfVectorizer(sublinear_tf=True, min_df=5, norm='l2', encoding='latin-1', ngram_range=(1, 2), stop_words='english')\n",
    "features = tfidf.fit_transform(df.description).toarray()\n",
    "labels = df.category_id\n",
    "features.shape"
   ]
  },
  {
   "cell_type": "markdown",
   "metadata": {},
   "source": [
    "Each of the 13254 product descriptions is represented by 16515 features."
   ]
  },
  {
   "cell_type": "code",
   "execution_count": 37,
   "metadata": {},
   "outputs": [
    {
     "name": "stdout",
     "output_type": "stream",
     "text": [
      "# 'Automotive':\n",
      "  . Most correlated unigrams:\n",
      ". mat\n",
      ". car\n",
      "  . Most correlated bigrams:\n",
      ". allure auto\n",
      ". car mat\n",
      "# 'Clothing':\n",
      "  . Most correlated unigrams:\n",
      ". shirt\n",
      ". online\n",
      "  . Most correlated bigrams:\n",
      ". branded clothes\n",
      ". clothes flipkart\n",
      "# 'Footwear':\n",
      "  . Most correlated unigrams:\n",
      ". loafers\n",
      ". boots\n",
      "  . Most correlated bigrams:\n",
      ". women wedges\n",
      ". com buy\n",
      "# 'Jewellery':\n",
      "  . Most correlated unigrams:\n",
      ". alloy\n",
      ". necklace\n",
      "  . Most correlated bigrams:\n",
      ". necklace rs\n",
      ". alloy necklace\n",
      "# 'Mobiles & Accessories':\n",
      "  . Most correlated unigrams:\n",
      ". cover\n",
      ". ipad\n",
      "  . Most correlated bigrams:\n",
      ". cover apple\n",
      ". apple ipad\n"
     ]
    }
   ],
   "source": [
    "# Use sklearn.feature_selection.chi2 to find the terms that are the most correlated with each of the products:\n",
    "from sklearn.feature_selection import chi2\n",
    "import numpy as np\n",
    "N = 2\n",
    "for description, category_id in sorted(category_to_id.items()):\n",
    "  features_chi2 = chi2(features, labels == category_id)\n",
    "  indices = np.argsort(features_chi2[0])\n",
    "  feature_names = np.array(tfidf.get_feature_names())[indices]\n",
    "  unigrams = [v for v in feature_names if len(v.split(' ')) == 1]\n",
    "  bigrams = [v for v in feature_names if len(v.split(' ')) == 2]\n",
    "  print(\"# '{}':\".format(description))\n",
    "  print(\"  . Most correlated unigrams:\\n. {}\".format('\\n. '.join(unigrams[-N:])))\n",
    "  print(\"  . Most correlated bigrams:\\n. {}\".format('\\n. '.join(bigrams[-N:])))"
   ]
  },
  {
   "cell_type": "markdown",
   "metadata": {},
   "source": [
    "## Multi-Class Classifier\n",
    "1. Transform the product descriptions into a vector of numbers. Below vector representations are as TF-IDF weighted vectors.\n",
    "2. Train supervised classifiers to train unseen product “descriptions\" and predict the “product_category” on which they fall."
   ]
  },
  {
   "cell_type": "code",
   "execution_count": 38,
   "metadata": {},
   "outputs": [],
   "source": [
    "# Naive Bayes Classifier: multinomial variant\n",
    "from sklearn.model_selection import train_test_split\n",
    "from sklearn.feature_extraction.text import CountVectorizer\n",
    "from sklearn.feature_extraction.text import TfidfTransformer\n",
    "from sklearn.naive_bayes import MultinomialNB\n",
    "X_train, X_test, y_train, y_test = train_test_split(df['description'], df['product_category'], random_state = 0)\n",
    "count_vect = CountVectorizer()\n",
    "X_train_counts = count_vect.fit_transform(X_train)\n",
    "tfidf_transformer = TfidfTransformer()\n",
    "X_train_tfidf = tfidf_transformer.fit_transform(X_train_counts)\n",
    "clf = MultinomialNB().fit(X_train_tfidf, y_train)"
   ]
  },
  {
   "cell_type": "code",
   "execution_count": 39,
   "metadata": {},
   "outputs": [
    {
     "data": {
      "text/plain": [
       "'Key Features of Anuradha Art Silver Polished Brooch brooches,Anuradha Art Silver Polished Brooch (Gold) Price: Rs. 650 Step out in style by clubbing this floral design pink\\xa0colored brooch from Anuradha Art Jewellery. It is encrusted with sparkling stones & crafted from golden polished Korean metal. So buy now!!,Specifications of Anuradha Art Silver Polished Brooch (Gold) In the Box Sales Package 1 Brooch Number of Contents in Sales Package Pack of 1 General Precious/Artificial Jewellery Fashion Jewellery Ideal For Women Girls Dimensions Width 30 mm Height 55 mm Warranty The Product Is Covered Under 30 Days Replacement Guarantee.'"
      ]
     },
     "execution_count": 39,
     "metadata": {},
     "output_type": "execute_result"
    }
   ],
   "source": [
    "# Extract sample product description from test data\n",
    "X_test[8584]"
   ]
  },
  {
   "cell_type": "code",
   "execution_count": 40,
   "metadata": {},
   "outputs": [
    {
     "data": {
      "text/plain": [
       "'Jewellery'"
      ]
     },
     "execution_count": 40,
     "metadata": {},
     "output_type": "execute_result"
    }
   ],
   "source": [
    "# Extract corresponding prediction label for the above\n",
    "y_test[8584]"
   ]
  },
  {
   "cell_type": "code",
   "execution_count": 41,
   "metadata": {},
   "outputs": [
    {
     "name": "stdout",
     "output_type": "stream",
     "text": [
      "['Jewellery']\n"
     ]
    }
   ],
   "source": [
    "# Sample Prediction from the above sample record\n",
    "print(clf.predict(count_vect.transform(['Clara Certified Katela 8.3 cts or 9.25 ratti Zoya Sterling Silver Amethyst Ring\\n                         Price: Rs. 2,760\\n\\t\\t\\t\\t\\n\\t\\t\\tBIS Hallmarked 925 silver Ring is artistically made according to the astrological needs. Gemstone is left open from the back side for rays to pass through and reach finger properly. High quality making in our own state-of-the-art manufacturing unit gives this ring a beautiful look. Gemstone certified by a govt recognised laboratory. Silver hallmarked by BIS.\\nBIS Hallmarked 925 silver Ring is artistically made according to the astrological needs. Gemstone is left open from the back side for rays to pass through and reach finger properly. High quality making in our own state-of-the-art manufacturing unit gives this ring a beautiful look. Gemstone certified by a govt recognised laboratory. Silver hallmarked by BIS.'])))"
   ]
  },
  {
   "cell_type": "code",
   "execution_count": 42,
   "metadata": {},
   "outputs": [
    {
     "data": {
      "text/html": [
       "<div>\n",
       "<style scoped>\n",
       "    .dataframe tbody tr th:only-of-type {\n",
       "        vertical-align: middle;\n",
       "    }\n",
       "\n",
       "    .dataframe tbody tr th {\n",
       "        vertical-align: top;\n",
       "    }\n",
       "\n",
       "    .dataframe thead th {\n",
       "        text-align: right;\n",
       "    }\n",
       "</style>\n",
       "<table border=\"1\" class=\"dataframe\">\n",
       "  <thead>\n",
       "    <tr style=\"text-align: right;\">\n",
       "      <th></th>\n",
       "      <th>product_category</th>\n",
       "      <th>description</th>\n",
       "      <th>category_id</th>\n",
       "    </tr>\n",
       "  </thead>\n",
       "  <tbody>\n",
       "    <tr>\n",
       "      <th>8584</th>\n",
       "      <td>Jewellery</td>\n",
       "      <td>Key Features of Anuradha Art Silver Polished B...</td>\n",
       "      <td>3</td>\n",
       "    </tr>\n",
       "  </tbody>\n",
       "</table>\n",
       "</div>"
      ],
      "text/plain": [
       "     product_category                                        description  \\\n",
       "8584        Jewellery  Key Features of Anuradha Art Silver Polished B...   \n",
       "\n",
       "      category_id  \n",
       "8584            3  "
      ]
     },
     "execution_count": 42,
     "metadata": {},
     "output_type": "execute_result"
    }
   ],
   "source": [
    "df.loc[ [8584] , : ]"
   ]
  },
  {
   "cell_type": "markdown",
   "metadata": {},
   "source": [
    "Experiment with different machine learning models\n",
    "\n",
    "1. Logistic Regression\n",
    "2. Naive Bayes (Multinomial)\n",
    "3. Linear Support Vector Machine\n",
    "4. Random Forest"
   ]
  },
  {
   "cell_type": "code",
   "execution_count": 43,
   "metadata": {},
   "outputs": [],
   "source": [
    "# import warnings filter \n",
    "from warnings import simplefilter\n",
    "# ignore all future warnings\n",
    "simplefilter(action='ignore', category=FutureWarning)"
   ]
  },
  {
   "cell_type": "code",
   "execution_count": 44,
   "metadata": {},
   "outputs": [],
   "source": [
    "# Evaluate accuracy and find the source of potential issues\n",
    "from sklearn.linear_model import LogisticRegression\n",
    "from sklearn.ensemble import RandomForestClassifier\n",
    "from sklearn.svm import LinearSVC\n",
    "from sklearn.model_selection import cross_val_score\n",
    "models = [\n",
    "    RandomForestClassifier(n_estimators=200, max_depth=3, random_state=0),\n",
    "    LinearSVC(),\n",
    "    MultinomialNB(),\n",
    "    LogisticRegression(random_state=0),\n",
    "]\n",
    "# 5 - fold cross validation\n",
    "CV = 5\n",
    "cv_df = pd.DataFrame(index=range(CV * len(models)))\n",
    "entries = []\n",
    "for model in models:\n",
    "  model_name = model.__class__.__name__\n",
    "  accuracies = cross_val_score(model, features, labels, scoring='accuracy', cv=CV)\n",
    "  for fold_idx, accuracy in enumerate(accuracies):\n",
    "    entries.append((model_name, fold_idx, accuracy))\n",
    "cv_df = pd.DataFrame(entries, columns=['model_name', 'fold_idx', 'accuracy'])"
   ]
  },
  {
   "cell_type": "code",
   "execution_count": 45,
   "metadata": {},
   "outputs": [
    {
     "data": {
      "image/png": "[encoded data removed]",
      "text/plain": [
       "<Figure size 432x288 with 1 Axes>"
      ]
     },
     "metadata": {
      "needs_background": "light"
     },
     "output_type": "display_data"
    }
   ],
   "source": [
    "import seaborn as sns\n",
    "sns.boxplot(x='model_name', y='accuracy', data=cv_df)\n",
    "sns.stripplot(x='model_name', y='accuracy', data=cv_df, \n",
    "              size=8, jitter=True, edgecolor=\"gray\", linewidth=2)\n",
    "plt.show()"
   ]
  },
  {
   "cell_type": "code",
   "execution_count": 46,
   "metadata": {},
   "outputs": [
    {
     "data": {
      "text/plain": [
       "model_name\n",
       "LinearSVC                 0.982423\n",
       "LogisticRegression        0.972464\n",
       "MultinomialNB             0.965525\n",
       "RandomForestClassifier    0.708930\n",
       "Name: accuracy, dtype: float64"
      ]
     },
     "execution_count": 46,
     "metadata": {},
     "output_type": "execute_result"
    }
   ],
   "source": [
    "cv_df.groupby('model_name').accuracy.mean()"
   ]
  },
  {
   "cell_type": "markdown",
   "metadata": {},
   "source": [
    "LinearSVC, Logistic Regression and Multinomial Naive Bayes perform better than RandomForest classifier, with LinearSVC having a slight advantage with a median accuracy of around 98%."
   ]
  },
  {
   "cell_type": "code",
   "execution_count": 47,
   "metadata": {},
   "outputs": [],
   "source": [
    "# Model Evaluation: Support Vector Machines - LinearSVC() \n",
    "model = LinearSVC()\n",
    "X_train, X_test, y_train, y_test, indices_train, indices_test = train_test_split(features, labels, df.index, test_size=0.33, random_state=0)\n",
    "model.fit(X_train, y_train)\n",
    "y_pred = model.predict(X_test)"
   ]
  },
  {
   "cell_type": "code",
   "execution_count": 48,
   "metadata": {},
   "outputs": [
    {
     "data": {
      "image/png": "[encoded data removed]",
      "text/plain": [
       "<Figure size 720x720 with 2 Axes>"
      ]
     },
     "metadata": {
      "needs_background": "light"
     },
     "output_type": "display_data"
    }
   ],
   "source": [
    "# Plot Confusion matrix to find the discrepancies between predicted and actual labels.\n",
    "from sklearn.metrics import confusion_matrix\n",
    "conf_mat = confusion_matrix(y_test, y_pred)\n",
    "fig, ax = plt.subplots(figsize=(10,10))\n",
    "sns.heatmap(conf_mat, annot=True, fmt='d',\n",
    "            xticklabels=category_id_df.product_category.values, yticklabels=category_id_df.product_category.values)\n",
    "plt.ylabel('Actual')\n",
    "plt.xlabel('Predicted')\n",
    "plt.show()"
   ]
  },
  {
   "cell_type": "code",
   "execution_count": 49,
   "metadata": {},
   "outputs": [
    {
     "data": {
      "text/plain": [
       "array([[ 310,    0,    0,    0,    1],\n",
       "       [   0, 2037,    1,    2,    0],\n",
       "       [   0,    4,  441,    0,    0],\n",
       "       [   0,    1,    0, 1229,    0],\n",
       "       [   0,    0,    0,    1,  347]])"
      ]
     },
     "execution_count": 49,
     "metadata": {},
     "output_type": "execute_result"
    }
   ],
   "source": [
    "conf_mat"
   ]
  },
  {
   "cell_type": "markdown",
   "metadata": {},
   "source": [
    "From the above confusion matrix, huge number of predictions are on the diaognal, where the predicted label is equal to actual label, however there are some misclassifications."
   ]
  },
  {
   "cell_type": "code",
   "execution_count": 50,
   "metadata": {},
   "outputs": [
    {
     "name": "stdout",
     "output_type": "stream",
     "text": [
      "'Footwear' predicted as 'Clothing' : 4 examples.\n"
     ]
    },
    {
     "data": {
      "text/html": [
       "<div>\n",
       "<style scoped>\n",
       "    .dataframe tbody tr th:only-of-type {\n",
       "        vertical-align: middle;\n",
       "    }\n",
       "\n",
       "    .dataframe tbody tr th {\n",
       "        vertical-align: top;\n",
       "    }\n",
       "\n",
       "    .dataframe thead th {\n",
       "        text-align: right;\n",
       "    }\n",
       "</style>\n",
       "<table border=\"1\" class=\"dataframe\">\n",
       "  <thead>\n",
       "    <tr style=\"text-align: right;\">\n",
       "      <th></th>\n",
       "      <th>product_category</th>\n",
       "      <th>description</th>\n",
       "    </tr>\n",
       "  </thead>\n",
       "  <tbody>\n",
       "    <tr>\n",
       "      <th>7709</th>\n",
       "      <td>Footwear</td>\n",
       "      <td>Key Features of killys Men's Solid No Show Soc...</td>\n",
       "    </tr>\n",
       "    <tr>\n",
       "      <th>7654</th>\n",
       "      <td>Footwear</td>\n",
       "      <td>Key Features of Camey Men's Quarter Length Soc...</td>\n",
       "    </tr>\n",
       "    <tr>\n",
       "      <th>7352</th>\n",
       "      <td>Footwear</td>\n",
       "      <td>Yepme Slip On Shoes\\n                         ...</td>\n",
       "    </tr>\n",
       "    <tr>\n",
       "      <th>7807</th>\n",
       "      <td>Footwear</td>\n",
       "      <td>Niremo Green Loafers\\n                        ...</td>\n",
       "    </tr>\n",
       "  </tbody>\n",
       "</table>\n",
       "</div>"
      ],
      "text/plain": [
       "     product_category                                        description\n",
       "7709         Footwear  Key Features of killys Men's Solid No Show Soc...\n",
       "7654         Footwear  Key Features of Camey Men's Quarter Length Soc...\n",
       "7352         Footwear  Yepme Slip On Shoes\\n                         ...\n",
       "7807         Footwear  Niremo Green Loafers\\n                        ..."
      ]
     },
     "metadata": {},
     "output_type": "display_data"
    },
    {
     "name": "stdout",
     "output_type": "stream",
     "text": [
      "\n",
      "'Jewellery' predicted as 'Clothing' : 1 examples.\n"
     ]
    },
    {
     "data": {
      "text/html": [
       "<div>\n",
       "<style scoped>\n",
       "    .dataframe tbody tr th:only-of-type {\n",
       "        vertical-align: middle;\n",
       "    }\n",
       "\n",
       "    .dataframe tbody tr th {\n",
       "        vertical-align: top;\n",
       "    }\n",
       "\n",
       "    .dataframe thead th {\n",
       "        text-align: right;\n",
       "    }\n",
       "</style>\n",
       "<table border=\"1\" class=\"dataframe\">\n",
       "  <thead>\n",
       "    <tr style=\"text-align: right;\">\n",
       "      <th></th>\n",
       "      <th>product_category</th>\n",
       "      <th>description</th>\n",
       "    </tr>\n",
       "  </thead>\n",
       "  <tbody>\n",
       "    <tr>\n",
       "      <th>8767</th>\n",
       "      <td>Jewellery</td>\n",
       "      <td>Key Features of Pout Brass Bangle Beautiful Ba...</td>\n",
       "    </tr>\n",
       "  </tbody>\n",
       "</table>\n",
       "</div>"
      ],
      "text/plain": [
       "     product_category                                        description\n",
       "8767        Jewellery  Key Features of Pout Brass Bangle Beautiful Ba..."
      ]
     },
     "metadata": {},
     "output_type": "display_data"
    },
    {
     "name": "stdout",
     "output_type": "stream",
     "text": [
      "\n",
      "'Clothing' predicted as 'Footwear' : 1 examples.\n"
     ]
    },
    {
     "data": {
      "text/html": [
       "<div>\n",
       "<style scoped>\n",
       "    .dataframe tbody tr th:only-of-type {\n",
       "        vertical-align: middle;\n",
       "    }\n",
       "\n",
       "    .dataframe tbody tr th {\n",
       "        vertical-align: top;\n",
       "    }\n",
       "\n",
       "    .dataframe thead th {\n",
       "        text-align: right;\n",
       "    }\n",
       "</style>\n",
       "<table border=\"1\" class=\"dataframe\">\n",
       "  <thead>\n",
       "    <tr style=\"text-align: right;\">\n",
       "      <th></th>\n",
       "      <th>product_category</th>\n",
       "      <th>description</th>\n",
       "    </tr>\n",
       "  </thead>\n",
       "  <tbody>\n",
       "    <tr>\n",
       "      <th>4795</th>\n",
       "      <td>Clothing</td>\n",
       "      <td>Key Features of killys Men's Solid No Show Soc...</td>\n",
       "    </tr>\n",
       "  </tbody>\n",
       "</table>\n",
       "</div>"
      ],
      "text/plain": [
       "     product_category                                        description\n",
       "4795         Clothing  Key Features of killys Men's Solid No Show Soc..."
      ]
     },
     "metadata": {},
     "output_type": "display_data"
    },
    {
     "name": "stdout",
     "output_type": "stream",
     "text": [
      "\n",
      "'Clothing' predicted as 'Jewellery' : 2 examples.\n"
     ]
    },
    {
     "data": {
      "text/html": [
       "<div>\n",
       "<style scoped>\n",
       "    .dataframe tbody tr th:only-of-type {\n",
       "        vertical-align: middle;\n",
       "    }\n",
       "\n",
       "    .dataframe tbody tr th {\n",
       "        vertical-align: top;\n",
       "    }\n",
       "\n",
       "    .dataframe thead th {\n",
       "        text-align: right;\n",
       "    }\n",
       "</style>\n",
       "<table border=\"1\" class=\"dataframe\">\n",
       "  <thead>\n",
       "    <tr style=\"text-align: right;\">\n",
       "      <th></th>\n",
       "      <th>product_category</th>\n",
       "      <th>description</th>\n",
       "    </tr>\n",
       "  </thead>\n",
       "  <tbody>\n",
       "    <tr>\n",
       "      <th>6114</th>\n",
       "      <td>Clothing</td>\n",
       "      <td>Key Features of Pout Brass Bangle Beautiful Ba...</td>\n",
       "    </tr>\n",
       "    <tr>\n",
       "      <th>6038</th>\n",
       "      <td>Clothing</td>\n",
       "      <td>Key Features of classyworld Brass Cufflink Ide...</td>\n",
       "    </tr>\n",
       "  </tbody>\n",
       "</table>\n",
       "</div>"
      ],
      "text/plain": [
       "     product_category                                        description\n",
       "6114         Clothing  Key Features of Pout Brass Bangle Beautiful Ba...\n",
       "6038         Clothing  Key Features of classyworld Brass Cufflink Ide..."
      ]
     },
     "metadata": {},
     "output_type": "display_data"
    },
    {
     "name": "stdout",
     "output_type": "stream",
     "text": [
      "\n",
      "'Mobiles & Accessories' predicted as 'Jewellery' : 1 examples.\n"
     ]
    },
    {
     "data": {
      "text/html": [
       "<div>\n",
       "<style scoped>\n",
       "    .dataframe tbody tr th:only-of-type {\n",
       "        vertical-align: middle;\n",
       "    }\n",
       "\n",
       "    .dataframe tbody tr th {\n",
       "        vertical-align: top;\n",
       "    }\n",
       "\n",
       "    .dataframe thead th {\n",
       "        text-align: right;\n",
       "    }\n",
       "</style>\n",
       "<table border=\"1\" class=\"dataframe\">\n",
       "  <thead>\n",
       "    <tr style=\"text-align: right;\">\n",
       "      <th></th>\n",
       "      <th>product_category</th>\n",
       "      <th>description</th>\n",
       "    </tr>\n",
       "  </thead>\n",
       "  <tbody>\n",
       "    <tr>\n",
       "      <th>12917</th>\n",
       "      <td>Mobiles &amp; Accessories</td>\n",
       "      <td>Buy Dyna Silver Heart Stereo Wireless Bluetoot...</td>\n",
       "    </tr>\n",
       "  </tbody>\n",
       "</table>\n",
       "</div>"
      ],
      "text/plain": [
       "            product_category  \\\n",
       "12917  Mobiles & Accessories   \n",
       "\n",
       "                                             description  \n",
       "12917  Buy Dyna Silver Heart Stereo Wireless Bluetoot...  "
      ]
     },
     "metadata": {},
     "output_type": "display_data"
    },
    {
     "name": "stdout",
     "output_type": "stream",
     "text": [
      "\n",
      "'Automotive' predicted as 'Mobiles & Accessories' : 1 examples.\n"
     ]
    },
    {
     "data": {
      "text/html": [
       "<div>\n",
       "<style scoped>\n",
       "    .dataframe tbody tr th:only-of-type {\n",
       "        vertical-align: middle;\n",
       "    }\n",
       "\n",
       "    .dataframe tbody tr th {\n",
       "        vertical-align: top;\n",
       "    }\n",
       "\n",
       "    .dataframe thead th {\n",
       "        text-align: right;\n",
       "    }\n",
       "</style>\n",
       "<table border=\"1\" class=\"dataframe\">\n",
       "  <thead>\n",
       "    <tr style=\"text-align: right;\">\n",
       "      <th></th>\n",
       "      <th>product_category</th>\n",
       "      <th>description</th>\n",
       "    </tr>\n",
       "  </thead>\n",
       "  <tbody>\n",
       "    <tr>\n",
       "      <th>125</th>\n",
       "      <td>Automotive</td>\n",
       "      <td>Fly FLY Universal Can/Cup Holder for Car (Blac...</td>\n",
       "    </tr>\n",
       "  </tbody>\n",
       "</table>\n",
       "</div>"
      ],
      "text/plain": [
       "    product_category                                        description\n",
       "125       Automotive  Fly FLY Universal Can/Cup Holder for Car (Blac..."
      ]
     },
     "metadata": {},
     "output_type": "display_data"
    },
    {
     "name": "stdout",
     "output_type": "stream",
     "text": [
      "\n"
     ]
    }
   ],
   "source": [
    "# Examine misclassifications\n",
    "from IPython.display import display\n",
    "for predicted in category_id_df.category_id:\n",
    "  for actual in category_id_df.category_id:\n",
    "    if predicted != actual and conf_mat[actual, predicted] > 0:\n",
    "      print(\"'{}' predicted as '{}' : {} examples.\".format(id_to_category[actual], id_to_category[predicted], conf_mat[actual, predicted]))\n",
    "      display(df.loc[indices_test[(y_test == actual) & (y_pred == predicted)]][['product_category', 'description']])\n",
    "      print('')"
   ]
  },
  {
   "cell_type": "code",
   "execution_count": 51,
   "metadata": {},
   "outputs": [
    {
     "name": "stdout",
     "output_type": "stream",
     "text": [
      "# 'Automotive':\n",
      "  . Top unigrams:\n",
      "       . car\n",
      "       . vehicle\n",
      "  . Top bigrams:\n",
      "       . online genuine\n",
      "       . steering cover\n",
      "# 'Clothing':\n",
      "  . Top unigrams:\n",
      "       . bra\n",
      "       . shirt\n",
      "  . Top bigrams:\n",
      "       . shirt price\n",
      "       . dress price\n",
      "# 'Footwear':\n",
      "  . Top unigrams:\n",
      "       . boots\n",
      "       . shoes\n",
      "  . Top bigrams:\n",
      "       . com buy\n",
      "       . women heels\n",
      "# 'Jewellery':\n",
      "  . Top unigrams:\n",
      "       . necklace\n",
      "       . bracelet\n",
      "  . Top bigrams:\n",
      "       . necklace price\n",
      "       . necklace buy\n",
      "# 'Mobiles & Accessories':\n",
      "  . Top unigrams:\n",
      "       . cover\n",
      "       . ipad\n",
      "  . Top bigrams:\n",
      "       . tempered glass\n",
      "       . flip cover\n"
     ]
    }
   ],
   "source": [
    "# Use chi-squared test to find the terms that are the most correlated with each of the categories\n",
    "model.fit(features, labels)\n",
    "N = 2\n",
    "for Product, category_id in sorted(category_to_id.items()):\n",
    "  indices = np.argsort(model.coef_[category_id])\n",
    "  feature_names = np.array(tfidf.get_feature_names())[indices]\n",
    "  unigrams = [v for v in reversed(feature_names) if len(v.split(' ')) == 1][:N]\n",
    "  bigrams = [v for v in reversed(feature_names) if len(v.split(' ')) == 2][:N]\n",
    "  print(\"# '{}':\".format(Product))\n",
    "  print(\"  . Top unigrams:\\n       . {}\".format('\\n       . '.join(unigrams)))\n",
    "  print(\"  . Top bigrams:\\n       . {}\".format('\\n       . '.join(bigrams)))"
   ]
  },
  {
   "cell_type": "code",
   "execution_count": 52,
   "metadata": {},
   "outputs": [
    {
     "name": "stdout",
     "output_type": "stream",
     "text": [
      "                       precision    recall  f1-score   support\n",
      "\n",
      "           Automotive       1.00      1.00      1.00       311\n",
      "             Clothing       1.00      1.00      1.00      2040\n",
      "             Footwear       1.00      0.99      0.99       445\n",
      "            Jewellery       1.00      1.00      1.00      1230\n",
      "Mobiles & Accessories       1.00      1.00      1.00       348\n",
      "\n",
      "            micro avg       1.00      1.00      1.00      4374\n",
      "            macro avg       1.00      1.00      1.00      4374\n",
      "         weighted avg       1.00      1.00      1.00      4374\n",
      "\n"
     ]
    }
   ],
   "source": [
    "# Print out the classification report for each class\n",
    "from sklearn import metrics\n",
    "print(metrics.classification_report(y_test, y_pred, target_names=df['product_category'].unique()))"
   ]
  }
 ],
 "metadata": {
  "kernelspec": {
   "display_name": "Python 3",
   "language": "python",
   "name": "python3"
  },
  "language_info": {
   "codemirror_mode": {
    "name": "ipython",
    "version": 3
   },
   "file_extension": ".py",
   "mimetype": "text/x-python",
   "name": "python",
   "nbconvert_exporter": "python",
   "pygments_lexer": "ipython3",
   "version": "3.7.3"
  }
 },
 "nbformat": 4,
 "nbformat_minor": 2
}
